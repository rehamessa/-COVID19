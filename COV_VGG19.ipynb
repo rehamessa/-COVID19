{
  "cells": [
    {
      "cell_type": "code",
      "source": [
        "! pip install kaggle"
      ],
      "metadata": {
        "colab": {
          "base_uri": "https://localhost:8080/"
        },
        "id": "lW_54CB8yUGy",
        "outputId": "48c0ca7f-d9d2-4a39-cfa6-d34f14d0041e"
      },
      "execution_count": 1,
      "outputs": [
        {
          "output_type": "stream",
          "name": "stdout",
          "text": [
            "Requirement already satisfied: kaggle in /usr/local/lib/python3.7/dist-packages (1.5.12)\n",
            "Requirement already satisfied: python-slugify in /usr/local/lib/python3.7/dist-packages (from kaggle) (6.1.1)\n",
            "Requirement already satisfied: python-dateutil in /usr/local/lib/python3.7/dist-packages (from kaggle) (2.8.2)\n",
            "Requirement already satisfied: requests in /usr/local/lib/python3.7/dist-packages (from kaggle) (2.23.0)\n",
            "Requirement already satisfied: six>=1.10 in /usr/local/lib/python3.7/dist-packages (from kaggle) (1.15.0)\n",
            "Requirement already satisfied: urllib3 in /usr/local/lib/python3.7/dist-packages (from kaggle) (1.24.3)\n",
            "Requirement already satisfied: certifi in /usr/local/lib/python3.7/dist-packages (from kaggle) (2021.10.8)\n",
            "Requirement already satisfied: tqdm in /usr/local/lib/python3.7/dist-packages (from kaggle) (4.63.0)\n",
            "Requirement already satisfied: text-unidecode>=1.3 in /usr/local/lib/python3.7/dist-packages (from python-slugify->kaggle) (1.3)\n",
            "Requirement already satisfied: idna<3,>=2.5 in /usr/local/lib/python3.7/dist-packages (from requests->kaggle) (2.10)\n",
            "Requirement already satisfied: chardet<4,>=3.0.2 in /usr/local/lib/python3.7/dist-packages (from requests->kaggle) (3.0.4)\n"
          ]
        }
      ]
    },
    {
      "cell_type": "code",
      "source": [
        "! mkdir ~/.kaggle"
      ],
      "metadata": {
        "colab": {
          "base_uri": "https://localhost:8080/"
        },
        "id": "ED4Sks9TAuUd",
        "outputId": "ffa8ad0c-02d2-4a56-939d-c2d9e9183c2f"
      },
      "execution_count": 7,
      "outputs": [
        {
          "output_type": "stream",
          "name": "stdout",
          "text": [
            "mkdir: cannot create directory ‘/root/.kaggle’: File exists\n"
          ]
        }
      ]
    },
    {
      "cell_type": "code",
      "source": [
        "! cp /content/kaggle.json ~/.kaggle/"
      ],
      "metadata": {
        "id": "m06kgjazDdNz"
      },
      "execution_count": 8,
      "outputs": []
    },
    {
      "cell_type": "code",
      "source": [
        "! chmod 600 ~/.kaggle/kaggle.json"
      ],
      "metadata": {
        "id": "ExRTa63hDxjE"
      },
      "execution_count": 9,
      "outputs": []
    },
    {
      "cell_type": "code",
      "source": [
        "! kaggle datasets download -d paultimothymooney/chest-xray-pneumonia"
      ],
      "metadata": {
        "colab": {
          "base_uri": "https://localhost:8080/"
        },
        "id": "ApFpHXjsD4qT",
        "outputId": "8cabc07f-93b5-40ae-8ef2-e8e23d55fae5"
      },
      "execution_count": 10,
      "outputs": [
        {
          "output_type": "stream",
          "name": "stdout",
          "text": [
            "Downloading chest-xray-pneumonia.zip to /content\n",
            "100% 2.29G/2.29G [00:12<00:00, 215MB/s]\n",
            "100% 2.29G/2.29G [00:12<00:00, 195MB/s]\n"
          ]
        }
      ]
    },
    {
      "cell_type": "code",
      "source": [
        "from zipfile import ZipFile\n",
        "file_name = \"/content/chest-xray-pneumonia.zip\"\n",
        "with ZipFile(file_name , 'r')as zip:\n",
        "  zip.extractall()\n",
        "  print('done')"
      ],
      "metadata": {
        "colab": {
          "base_uri": "https://localhost:8080/"
        },
        "id": "QkhnAmiyFi1t",
        "outputId": "0d8e0ecc-a6a5-442e-fc45-0dc2a6b3158d"
      },
      "execution_count": 12,
      "outputs": [
        {
          "output_type": "stream",
          "name": "stdout",
          "text": [
            "done\n"
          ]
        }
      ]
    },
    {
      "cell_type": "markdown",
      "metadata": {
        "id": "EV0A7UuXyRq6"
      },
      "source": [
        ">### Import the necessary packages"
      ]
    },
    {
      "cell_type": "code",
      "execution_count": 13,
      "metadata": {
        "id": "HIlqesMFyRq9"
      },
      "outputs": [],
      "source": [
        "import os\n",
        "import re\n",
        "import numpy as np\n",
        "import matplotlib.pyplot as plt\n",
        "import pandas as pd\n",
        "%matplotlib inline\n",
        "import seaborn as sns\n",
        "sns.set_style(\"whitegrid\")\n",
        "import warnings\n",
        "warnings.filterwarnings(\"ignore\")\n",
        "import tensorflow as tf\n",
        "import glob\n",
        "from tensorflow.keras.preprocessing.image import ImageDataGenerator,load_img"
      ]
    },
    {
      "cell_type": "markdown",
      "metadata": {
        "id": "xikEMGNZyRq_"
      },
      "source": [
        ">### Loading the data"
      ]
    },
    {
      "cell_type": "code",
      "execution_count": 14,
      "metadata": {
        "id": "ap2DVr_byRq_"
      },
      "outputs": [],
      "source": [
        "train_dir = \"/content/chest_xray/train\"\n",
        "test_dir = \"/content/chest_xray/test\"\n",
        "val_dir = \"/content/chest_xray/val\""
      ]
    },
    {
      "cell_type": "markdown",
      "metadata": {
        "id": "VujsA-WuyRrA"
      },
      "source": [
        ">### Data Augmentation\n",
        ">* Using ImageDataGenerator, to augment our images so as to create a larger dataset "
      ]
    },
    {
      "cell_type": "code",
      "execution_count": 15,
      "metadata": {
        "id": "c-rVac1ZyRrA"
      },
      "outputs": [],
      "source": [
        "img_Datagen = ImageDataGenerator(\n",
        "        rescale = 1/255,\n",
        "        shear_range=10,\n",
        "        zoom_range=0.3,\n",
        "        horizontal_flip=True,\n",
        "        vertical_flip=True,\n",
        "        brightness_range=[0.5,2.0],\n",
        "        width_shift_range = 0.2,\n",
        "        rotation_range=20,\n",
        "        fill_mode = 'nearest'\n",
        ")\n",
        "val_Datagen = ImageDataGenerator(\n",
        "        rescale = 1/255\n",
        ")"
      ]
    },
    {
      "cell_type": "code",
      "execution_count": 16,
      "metadata": {
        "colab": {
          "base_uri": "https://localhost:8080/"
        },
        "id": "lzY65aqnyRrB",
        "outputId": "0720b2af-e414-4f55-dd9d-56d8c9837794"
      },
      "outputs": [
        {
          "output_type": "stream",
          "name": "stdout",
          "text": [
            "Found 5216 images belonging to 2 classes.\n",
            "Found 16 images belonging to 2 classes.\n",
            "Found 624 images belonging to 2 classes.\n"
          ]
        }
      ],
      "source": [
        "train = img_Datagen.flow_from_directory(train_dir,\n",
        "                                       batch_size=32,\n",
        "                                       class_mode='binary',\n",
        "\n",
        "                                       )\n",
        "\n",
        "validation = val_Datagen.flow_from_directory(val_dir,\n",
        "                                              batch_size=2,\n",
        "                                              class_mode='binary',\n",
        "\n",
        "                                            )\n",
        "\n",
        "test = val_Datagen.flow_from_directory(test_dir,\n",
        "                                       batch_size=2,\n",
        "                                       class_mode='binary',\n",
        "\n",
        "                                      )"
      ]
    },
    {
      "cell_type": "code",
      "execution_count": 17,
      "metadata": {
        "id": "sgvkM44cyRrC"
      },
      "outputs": [],
      "source": [
        "img, label = next(train)"
      ]
    },
    {
      "cell_type": "markdown",
      "metadata": {
        "id": "dUXSi8tmyRrD"
      },
      "source": [
        ">###    Defining the model\n",
        ">*    Using pre-trainied VGG19 model.\n",
        ">*    Freezing all the layers of model of train.\n",
        ">*    Using Adam as optimizer and binary_crossentropy as loss function.\n",
        ">*    Using callbacks for avoiding overfitting case."
      ]
    },
    {
      "cell_type": "code",
      "execution_count": 18,
      "metadata": {
        "colab": {
          "base_uri": "https://localhost:8080/"
        },
        "id": "6Mwps3euyRrD",
        "outputId": "bc2f4f19-cea6-49c6-ff2d-31f35981dccd"
      },
      "outputs": [
        {
          "output_type": "stream",
          "name": "stdout",
          "text": [
            "Downloading data from https://storage.googleapis.com/tensorflow/keras-applications/vgg19/vgg19_weights_tf_dim_ordering_tf_kernels_notop.h5\n",
            "80142336/80134624 [==============================] - 1s 0us/step\n",
            "80150528/80134624 [==============================] - 1s 0us/step\n"
          ]
        }
      ],
      "source": [
        "vgg_model = tf.keras.applications.VGG19(\n",
        "    weights='imagenet',\n",
        "    include_top = False,\n",
        "#     input_shape = (224,224,3)\n",
        ")\n",
        "\n",
        "for layer in vgg_model.layers:\n",
        "    layer.trainable=False\n",
        "    \n",
        "x = vgg_model.output\n",
        "x = tf.keras.layers.GlobalAveragePooling2D()(x)\n",
        "x = tf.keras.layers.Dense(128,activation='relu')(x)\n",
        "# output layer\n",
        "predictions = tf.keras.layers.Dense(1,activation='sigmoid')(x)\n",
        "\n",
        "model = tf.keras.Model(inputs=vgg_model.input, outputs=predictions)\n"
      ]
    },
    {
      "cell_type": "code",
      "execution_count": 19,
      "metadata": {
        "id": "MaLS5IntyRrE"
      },
      "outputs": [],
      "source": [
        "# to avoid overfitting\n",
        "early_stopping = tf.keras.callbacks.EarlyStopping(monitor='val_loss',patience=10)\n",
        "lr = tf.keras.callbacks.ReduceLROnPlateau(monitor='val_loss',patience=8)"
      ]
    },
    {
      "cell_type": "code",
      "execution_count": 20,
      "metadata": {
        "id": "d81G0tndyRrE"
      },
      "outputs": [],
      "source": [
        "# Compiling the model\n",
        "model.compile(loss='binary_crossentropy', optimizer='adam',metrics=['accuracy'])"
      ]
    },
    {
      "cell_type": "code",
      "execution_count": 21,
      "metadata": {
        "colab": {
          "base_uri": "https://localhost:8080/"
        },
        "id": "NVwG-5aNyRrF",
        "outputId": "1ea582dc-36c6-46fa-b200-ab0d4d196fff"
      },
      "outputs": [
        {
          "output_type": "stream",
          "name": "stdout",
          "text": [
            "Model: \"model\"\n",
            "_________________________________________________________________\n",
            " Layer (type)                Output Shape              Param #   \n",
            "=================================================================\n",
            " input_1 (InputLayer)        [(None, None, None, 3)]   0         \n",
            "                                                                 \n",
            " block1_conv1 (Conv2D)       (None, None, None, 64)    1792      \n",
            "                                                                 \n",
            " block1_conv2 (Conv2D)       (None, None, None, 64)    36928     \n",
            "                                                                 \n",
            " block1_pool (MaxPooling2D)  (None, None, None, 64)    0         \n",
            "                                                                 \n",
            " block2_conv1 (Conv2D)       (None, None, None, 128)   73856     \n",
            "                                                                 \n",
            " block2_conv2 (Conv2D)       (None, None, None, 128)   147584    \n",
            "                                                                 \n",
            " block2_pool (MaxPooling2D)  (None, None, None, 128)   0         \n",
            "                                                                 \n",
            " block3_conv1 (Conv2D)       (None, None, None, 256)   295168    \n",
            "                                                                 \n",
            " block3_conv2 (Conv2D)       (None, None, None, 256)   590080    \n",
            "                                                                 \n",
            " block3_conv3 (Conv2D)       (None, None, None, 256)   590080    \n",
            "                                                                 \n",
            " block3_conv4 (Conv2D)       (None, None, None, 256)   590080    \n",
            "                                                                 \n",
            " block3_pool (MaxPooling2D)  (None, None, None, 256)   0         \n",
            "                                                                 \n",
            " block4_conv1 (Conv2D)       (None, None, None, 512)   1180160   \n",
            "                                                                 \n",
            " block4_conv2 (Conv2D)       (None, None, None, 512)   2359808   \n",
            "                                                                 \n",
            " block4_conv3 (Conv2D)       (None, None, None, 512)   2359808   \n",
            "                                                                 \n",
            " block4_conv4 (Conv2D)       (None, None, None, 512)   2359808   \n",
            "                                                                 \n",
            " block4_pool (MaxPooling2D)  (None, None, None, 512)   0         \n",
            "                                                                 \n",
            " block5_conv1 (Conv2D)       (None, None, None, 512)   2359808   \n",
            "                                                                 \n",
            " block5_conv2 (Conv2D)       (None, None, None, 512)   2359808   \n",
            "                                                                 \n",
            " block5_conv3 (Conv2D)       (None, None, None, 512)   2359808   \n",
            "                                                                 \n",
            " block5_conv4 (Conv2D)       (None, None, None, 512)   2359808   \n",
            "                                                                 \n",
            " block5_pool (MaxPooling2D)  (None, None, None, 512)   0         \n",
            "                                                                 \n",
            " global_average_pooling2d (G  (None, 512)              0         \n",
            " lobalAveragePooling2D)                                          \n",
            "                                                                 \n",
            " dense (Dense)               (None, 128)               65664     \n",
            "                                                                 \n",
            " dense_1 (Dense)             (None, 1)                 129       \n",
            "                                                                 \n",
            "=================================================================\n",
            "Total params: 20,090,177\n",
            "Trainable params: 65,793\n",
            "Non-trainable params: 20,024,384\n",
            "_________________________________________________________________\n"
          ]
        }
      ],
      "source": [
        "model.summary()"
      ]
    },
    {
      "cell_type": "code",
      "execution_count": 22,
      "metadata": {
        "colab": {
          "base_uri": "https://localhost:8080/"
        },
        "id": "FgP1GpQgyRrF",
        "outputId": "c8e8e035-9e18-432d-b557-230ecf6a67b8"
      },
      "outputs": [
        {
          "output_type": "stream",
          "name": "stdout",
          "text": [
            "Epoch 1/30\n",
            "100/100 [==============================] - 117s 1s/step - loss: 0.4866 - accuracy: 0.7722 - val_loss: 0.5492 - val_accuracy: 0.7500 - lr: 0.0010\n",
            "Epoch 2/30\n",
            "100/100 [==============================] - 100s 994ms/step - loss: 0.4226 - accuracy: 0.8078 - val_loss: 0.5003 - val_accuracy: 0.8125 - lr: 0.0010\n",
            "Epoch 3/30\n",
            "100/100 [==============================] - 99s 986ms/step - loss: 0.3863 - accuracy: 0.8213 - val_loss: 0.4501 - val_accuracy: 0.8125 - lr: 0.0010\n",
            "Epoch 4/30\n",
            "100/100 [==============================] - 101s 1s/step - loss: 0.3635 - accuracy: 0.8325 - val_loss: 0.4221 - val_accuracy: 0.8125 - lr: 0.0010\n",
            "Epoch 5/30\n",
            "100/100 [==============================] - 97s 972ms/step - loss: 0.3540 - accuracy: 0.8353 - val_loss: 0.4426 - val_accuracy: 0.8125 - lr: 0.0010\n",
            "Epoch 6/30\n",
            "100/100 [==============================] - 99s 991ms/step - loss: 0.3315 - accuracy: 0.8553 - val_loss: 0.4166 - val_accuracy: 0.8750 - lr: 0.0010\n",
            "Epoch 7/30\n",
            "100/100 [==============================] - 98s 979ms/step - loss: 0.3203 - accuracy: 0.8612 - val_loss: 0.4192 - val_accuracy: 0.8125 - lr: 0.0010\n",
            "Epoch 8/30\n",
            "100/100 [==============================] - 99s 991ms/step - loss: 0.3135 - accuracy: 0.8609 - val_loss: 0.4112 - val_accuracy: 0.7500 - lr: 0.0010\n",
            "Epoch 9/30\n",
            "100/100 [==============================] - 99s 984ms/step - loss: 0.3011 - accuracy: 0.8669 - val_loss: 0.3714 - val_accuracy: 0.8125 - lr: 0.0010\n",
            "Epoch 10/30\n",
            "100/100 [==============================] - 98s 981ms/step - loss: 0.2987 - accuracy: 0.8644 - val_loss: 0.3790 - val_accuracy: 0.8750 - lr: 0.0010\n",
            "Epoch 11/30\n",
            "100/100 [==============================] - 97s 971ms/step - loss: 0.2905 - accuracy: 0.8669 - val_loss: 0.3939 - val_accuracy: 0.8750 - lr: 0.0010\n",
            "Epoch 12/30\n",
            "100/100 [==============================] - 98s 972ms/step - loss: 0.2777 - accuracy: 0.8841 - val_loss: 0.3628 - val_accuracy: 0.8750 - lr: 0.0010\n",
            "Epoch 13/30\n",
            "100/100 [==============================] - 101s 1s/step - loss: 0.2753 - accuracy: 0.8819 - val_loss: 0.3660 - val_accuracy: 0.8750 - lr: 0.0010\n",
            "Epoch 14/30\n",
            "100/100 [==============================] - 97s 963ms/step - loss: 0.2634 - accuracy: 0.8888 - val_loss: 0.4526 - val_accuracy: 0.8125 - lr: 0.0010\n",
            "Epoch 15/30\n",
            "100/100 [==============================] - 98s 977ms/step - loss: 0.2748 - accuracy: 0.8750 - val_loss: 0.3548 - val_accuracy: 0.8125 - lr: 0.0010\n",
            "Epoch 16/30\n",
            "100/100 [==============================] - 100s 992ms/step - loss: 0.2480 - accuracy: 0.8944 - val_loss: 0.3687 - val_accuracy: 0.8750 - lr: 0.0010\n",
            "Epoch 17/30\n",
            "100/100 [==============================] - 99s 989ms/step - loss: 0.2407 - accuracy: 0.8950 - val_loss: 0.3449 - val_accuracy: 0.8125 - lr: 0.0010\n",
            "Epoch 18/30\n",
            "100/100 [==============================] - 99s 989ms/step - loss: 0.2685 - accuracy: 0.8869 - val_loss: 0.3620 - val_accuracy: 0.8750 - lr: 0.0010\n",
            "Epoch 19/30\n",
            "100/100 [==============================] - 99s 987ms/step - loss: 0.2673 - accuracy: 0.8841 - val_loss: 0.4300 - val_accuracy: 0.8125 - lr: 0.0010\n",
            "Epoch 20/30\n",
            "100/100 [==============================] - 99s 992ms/step - loss: 0.2444 - accuracy: 0.8956 - val_loss: 0.4040 - val_accuracy: 0.8750 - lr: 0.0010\n",
            "Epoch 21/30\n",
            "100/100 [==============================] - 98s 979ms/step - loss: 0.2672 - accuracy: 0.8838 - val_loss: 0.3373 - val_accuracy: 0.8125 - lr: 0.0010\n",
            "Epoch 22/30\n",
            "100/100 [==============================] - 97s 964ms/step - loss: 0.2314 - accuracy: 0.9031 - val_loss: 0.3495 - val_accuracy: 0.8125 - lr: 0.0010\n",
            "Epoch 23/30\n",
            "100/100 [==============================] - 101s 1s/step - loss: 0.2410 - accuracy: 0.9000 - val_loss: 0.3917 - val_accuracy: 0.8750 - lr: 0.0010\n",
            "Epoch 24/30\n",
            "100/100 [==============================] - 101s 1s/step - loss: 0.2639 - accuracy: 0.8863 - val_loss: 0.3299 - val_accuracy: 0.8125 - lr: 0.0010\n",
            "Epoch 25/30\n",
            "100/100 [==============================] - 101s 1s/step - loss: 0.2340 - accuracy: 0.8963 - val_loss: 0.3433 - val_accuracy: 0.8125 - lr: 0.0010\n",
            "Epoch 26/30\n",
            "100/100 [==============================] - 99s 986ms/step - loss: 0.2550 - accuracy: 0.8884 - val_loss: 0.3555 - val_accuracy: 0.8750 - lr: 0.0010\n",
            "Epoch 27/30\n",
            "100/100 [==============================] - 97s 973ms/step - loss: 0.2311 - accuracy: 0.9031 - val_loss: 0.3885 - val_accuracy: 0.8750 - lr: 0.0010\n",
            "Epoch 28/30\n",
            "100/100 [==============================] - 99s 986ms/step - loss: 0.2430 - accuracy: 0.8963 - val_loss: 0.3431 - val_accuracy: 0.7500 - lr: 0.0010\n",
            "Epoch 29/30\n",
            "100/100 [==============================] - 96s 961ms/step - loss: 0.2404 - accuracy: 0.8953 - val_loss: 0.3488 - val_accuracy: 0.8125 - lr: 0.0010\n",
            "Epoch 30/30\n",
            "100/100 [==============================] - 102s 1s/step - loss: 0.2476 - accuracy: 0.8913 - val_loss: 0.4331 - val_accuracy: 0.8125 - lr: 0.0010\n"
          ]
        }
      ],
      "source": [
        "history = model.fit(train,epochs=30, \n",
        "                    validation_data=validation,\n",
        "                     steps_per_epoch=100,\n",
        "                    callbacks=[early_stopping,lr],\n",
        "                    batch_size=32)"
      ]
    },
    {
      "cell_type": "markdown",
      "source": [
        ">### Evaluating VGG19"
      ],
      "metadata": {
        "id": "k-S49b5uT8Qv"
      }
    },
    {
      "cell_type": "code",
      "source": [
        "score=model.evaluate(train)"
      ],
      "metadata": {
        "colab": {
          "base_uri": "https://localhost:8080/"
        },
        "id": "rKjsHvQZUA17",
        "outputId": "87abbd68-9e26-43c6-f754-4795ec1d6217"
      },
      "execution_count": 23,
      "outputs": [
        {
          "output_type": "stream",
          "name": "stdout",
          "text": [
            "163/163 [==============================] - 169s 1s/step - loss: 0.2648 - accuracy: 0.8932\n"
          ]
        }
      ]
    },
    {
      "cell_type": "code",
      "source": [
        "# train data\n",
        "print(\"Train Accuracy:\",score[1])"
      ],
      "metadata": {
        "colab": {
          "base_uri": "https://localhost:8080/"
        },
        "id": "iPlmjUgeUL3O",
        "outputId": "5837c9e3-fd29-4bcb-af50-81a7a8585944"
      },
      "execution_count": 24,
      "outputs": [
        {
          "output_type": "stream",
          "name": "stdout",
          "text": [
            "Train Accuracy: 0.8932132124900818\n"
          ]
        }
      ]
    },
    {
      "cell_type": "code",
      "source": [
        "score=model.evaluate(test)\n",
        "# train data\n",
        "print(\"Test Accuracy:\",score[1])"
      ],
      "metadata": {
        "colab": {
          "base_uri": "https://localhost:8080/"
        },
        "id": "lQLgVLK1Uy03",
        "outputId": "5c84dbec-13cb-43b4-9ad4-dd8f29bb2937"
      },
      "execution_count": 27,
      "outputs": [
        {
          "output_type": "stream",
          "name": "stdout",
          "text": [
            "312/312 [==============================] - 29s 91ms/step - loss: 0.4459 - accuracy: 0.7740\n",
            "Test Accuracy: 0.7740384340286255\n"
          ]
        }
      ]
    },
    {
      "cell_type": "code",
      "source": [
        "plt.figure(figsize=(12, 8))\n",
        "plt.title('EVALUATION OF VGG19')\n",
        "\n",
        "plt.subplot(2, 2, 1)\n",
        "plt.plot(history.history['loss'], label='Loss')\n",
        "plt.plot(history.history['val_loss'], label='Val_Loss')\n",
        "plt.legend()\n",
        "plt.title('Loss Evolution')\n",
        "\n",
        "plt.subplot(2, 2, 2)\n",
        "plt.plot(history.history['accuracy'], label='Accuracy')\n",
        "plt.plot(history.history['val_accuracy'], label='Val_Accuracy')\n",
        "plt.legend()\n",
        "plt.title('Accuracy Evolution')"
      ],
      "metadata": {
        "colab": {
          "base_uri": "https://localhost:8080/",
          "height": 279
        },
        "id": "1thy7yCdVLA3",
        "outputId": "f53df93d-1d66-4331-9159-e53af50d6c4f"
      },
      "execution_count": 28,
      "outputs": [
        {
          "output_type": "execute_result",
          "data": {
            "text/plain": [
              "Text(0.5, 1.0, 'Accuracy Evolution')"
            ]
          },
          "metadata": {},
          "execution_count": 28
        },
        {
          "output_type": "display_data",
          "data": {
            "text/plain": [
              "<Figure size 864x576 with 2 Axes>"
            ],
            "image/png": "[encoded data removed]"
          },
          "metadata": {}
        }
      ]
    },
    {
      "cell_type": "code",
      "source": [
        ""
      ],
      "metadata": {
        "id": "GdYLq1x1Vsyb"
      },
      "execution_count": null,
      "outputs": []
    }
  ],
  "metadata": {
    "interpreter": {
      "hash": "707aab0a078b6b4ae7605615109a6f7159987081daedafbf3334295fb1ab1b6c"
    },
    "kernelspec": {
      "display_name": "Python 3.10.2 64-bit",
      "language": "python",
      "name": "python3"
    },
    "language_info": {
      "codemirror_mode": {
        "name": "ipython",
        "version": 3
      },
      "file_extension": ".py",
      "mimetype": "text/x-python",
      "name": "python",
      "nbconvert_exporter": "python",
      "pygments_lexer": "ipython3",
      "version": "3.10.2"
    },
    "orig_nbformat": 4,
    "colab": {
      "name": "COV_VGG19.ipynb",
      "provenance": []
    },
    "accelerator": "GPU"
  },
  "nbformat": 4,
  "nbformat_minor": 0
}